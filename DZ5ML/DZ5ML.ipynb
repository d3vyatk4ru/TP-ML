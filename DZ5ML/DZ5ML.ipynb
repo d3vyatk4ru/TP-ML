{
  "cells": [
    {
      "cell_type": "code",
      "execution_count": null,
      "metadata": {
        "colab": {
          "base_uri": "https://localhost:8080/"
        },
        "id": "qjbSAiVGlP4y",
        "outputId": "cf30b280-2c02-4b7e-f16a-405bdd3baa52"
      },
      "outputs": [],
      "source": [
        "import warnings\n",
        "warnings.filterwarnings(\"ignore\")\n",
        "import pandas as pd\n",
        "import numpy as np\n",
        "import seaborn as sns\n",
        "import time\n",
        "import matplotlib.pyplot as plt\n",
        "import sklearn\n",
        "\n",
        "from sklearn.preprocessing import PolynomialFeatures\n",
        "from sklearn.ensemble import RandomForestRegressor\n",
        "from sklearn.metrics import mean_absolute_error\n",
        "from numpy import hstack\n",
        "from sklearn.ensemble import VotingRegressor\n",
        "\n",
        "!pip install catboost\n",
        "from catboost import CatBoostRegressor\n",
        "\n",
        "from sklearn.preprocessing import StandardScaler\n",
        "from sklearn.model_selection import train_test_split\n",
        "\n",
        "!pip install lightgbm\n",
        "from lightgbm import LGBMRegressor\n",
        "\n",
        "import xgboost as xgb"
      ]
    },
    {
      "cell_type": "code",
      "execution_count": null,
      "metadata": {
        "id": "H3bRWba3ys35"
      },
      "outputs": [],
      "source": [
        "def preprocessing_data(df: pd.DataFrame, train: bool()) -> tuple():\n",
        "    \"\"\" Data preproccessing \"\"\"\n",
        "\n",
        "    df.drop(columns='id', inplace=True)\n",
        "\n",
        "    # приводим дату к типу даты\n",
        "    df[\"date\"] = pd.DatetimeIndex(df[\"date\"])\n",
        "\n",
        "    df.build_tech = df.build_tech.fillna(value=df.g_lift.median())\n",
        "\n",
        "    df.g_lift = df.g_lift.fillna(value=df.g_lift.median())\n",
        "    \n",
        "    df.metro_dist = df.metro_dist.fillna(value=df.metro_dist.mean())\n",
        "\n",
        "    df.build_tech[99999] = 1.0\n",
        "\n",
        "    df = df.astype({'build_tech' : 'Int64',\n",
        "                    'g_lift' : 'Int64'})\n",
        "\n",
        "    df.build_tech.apply(lambda x: int(x))\n",
        "\n",
        "    df.g_lift.apply(lambda x: int(x))\n",
        "\n",
        "    df['year'] = df.date.dt.year\n",
        "    df['month'] = df.date.dt.month\n",
        "\n",
        "    df = pd.concat([df, pd.get_dummies(df.month, prefix='month')], axis=1)\n",
        "\n",
        "    df = pd.concat([df, pd.get_dummies(df.floor, prefix='floor')], axis=1)\n",
        "\n",
        "    df = pd.concat([df, pd.get_dummies(df.rooms, prefix='rooms')], axis=1)\n",
        "\n",
        "    df = df.drop(columns=['date', 'floor', 'n_photos', 'rooms', 'month'])\n",
        "\n",
        "    return df"
      ]
    },
    {
      "cell_type": "code",
      "execution_count": null,
      "metadata": {
        "id": "Kaxb0NARlfwL"
      },
      "outputs": [],
      "source": [
        "df = pd.read_csv('https://raw.githubusercontent.com/d3vyatk4ru/DZ5ML/main/Train.csv')"
      ]
    },
    {
      "cell_type": "code",
      "execution_count": null,
      "metadata": {
        "colab": {
          "base_uri": "https://localhost:8080/",
          "height": 468
        },
        "id": "rI9Lc9edRE6p",
        "outputId": "c0b66023-cbbc-4ab6-fef5-08bdcfcc54ef"
      },
      "outputs": [],
      "source": [
        "df"
      ]
    },
    {
      "cell_type": "code",
      "execution_count": null,
      "metadata": {
        "colab": {
          "base_uri": "https://localhost:8080/",
          "height": 279
        },
        "id": "_5fSrkxNOymW",
        "outputId": "1bbc286c-c3b2-4f97-ed57-0b4f63041915"
      },
      "outputs": [
        {
          "data": {
            "image/png": "[encoded data removed]",
            "text/plain": [
              "<Figure size 1152x288 with 1 Axes>"
            ]
          },
          "metadata": {},
          "output_type": "display_data"
        }
      ],
      "source": [
        "plt.figure(figsize=(16, 4))\n",
        "plt.hist(df.price, bins=300);"
      ]
    },
    {
      "cell_type": "code",
      "execution_count": null,
      "metadata": {
        "id": "CfnUFlZVDF_R"
      },
      "outputs": [],
      "source": [
        "df = df[~df.isnull()]"
      ]
    },
    {
      "cell_type": "code",
      "execution_count": null,
      "metadata": {
        "id": "4WnVXyuoe5-4"
      },
      "outputs": [],
      "source": [
        "df = preprocessing_data(df, train=False)"
      ]
    },
    {
      "cell_type": "code",
      "execution_count": null,
      "metadata": {
        "id": "vxNA0G68R0Mw"
      },
      "outputs": [],
      "source": [
        "df = df[df.price != 1_000_000]"
      ]
    },
    {
      "cell_type": "code",
      "execution_count": null,
      "metadata": {
        "colab": {
          "base_uri": "https://localhost:8080/",
          "height": 279
        },
        "id": "J0KyKyAi5z4X",
        "outputId": "5dc2f9f9-449d-4130-cf14-b4b0b05e353a"
      },
      "outputs": [
        {
          "data": {
            "image/png": "[encoded data removed]",
            "text/plain": [
              "<Figure size 1152x288 with 1 Axes>"
            ]
          },
          "metadata": {},
          "output_type": "display_data"
        }
      ],
      "source": [
        "plt.figure(figsize=(16, 4))\n",
        "plt.hist(df.price, bins=300);"
      ]
    },
    {
      "cell_type": "code",
      "execution_count": null,
      "metadata": {
        "id": "l3bPZJOXiPKk"
      },
      "outputs": [],
      "source": [
        "y = df.price.values\n",
        "X = df.drop(columns='price').values\n",
        "del df"
      ]
    },
    {
      "cell_type": "code",
      "execution_count": null,
      "metadata": {
        "id": "pUuw7mA8jHh-"
      },
      "outputs": [],
      "source": [
        "scaler = StandardScaler()\n",
        "X_scaler = scaler.fit_transform(X)"
      ]
    },
    {
      "cell_type": "code",
      "execution_count": null,
      "metadata": {
        "id": "LcqQkkEKBpeg"
      },
      "outputs": [],
      "source": [
        "quadratic = PolynomialFeatures(degree=2)"
      ]
    },
    {
      "cell_type": "code",
      "execution_count": null,
      "metadata": {
        "id": "xoDabq_9CKlz"
      },
      "outputs": [],
      "source": [
        "X_q = quadratic.fit_transform(X_scaler)\n",
        "del X_scaler"
      ]
    },
    {
      "cell_type": "code",
      "execution_count": null,
      "metadata": {
        "id": "3jIzqFW_qUI4"
      },
      "outputs": [],
      "source": [
        "X_train, X_test, y_train, y_test = train_test_split(X_q, y, test_size=0.15, random_state=42)\n",
        "del X_q"
      ]
    },
    {
      "cell_type": "code",
      "execution_count": null,
      "metadata": {
        "id": "EVEvGdk-lLGP"
      },
      "outputs": [],
      "source": [
        "LGBM = LGBMRegressor(learning_rate=0.6,\n",
        "                   n_estimators=250,\n",
        "                   random_state=42,\n",
        "                   num_leaves=1024,\n",
        "                   reg_alpha=1e-2,\n",
        "                   reg_lambda=1e-2)\n",
        "\n",
        "\n",
        "catboostRMSE = CatBoostRegressor(learning_rate=0.8,\n",
        "                          n_estimators=300,\n",
        "                          loss_function=\"RMSE\",\n",
        "                          score_function='L2',\n",
        "                          random_state=24,\n",
        "                          reg_lambda=10)\n",
        "\n",
        "catboostMAE = CatBoostRegressor(learning_rate=0.8,\n",
        "                          n_estimators=300,\n",
        "                          loss_function=\"MAE\",\n",
        "                          random_state=42,\n",
        "                          reg_lambda=1e+2)"
      ]
    },
    {
      "cell_type": "code",
      "execution_count": null,
      "metadata": {
        "id": "CxC-NiAaUsoC"
      },
      "outputs": [],
      "source": [
        "voting = VotingRegressor([('LGBM', LGBM), ('catboostRMSE', catboostRMSE), ('catboostMAE', catboostMAE)])"
      ]
    },
    {
      "cell_type": "code",
      "execution_count": null,
      "metadata": {
        "colab": {
          "background_save": true,
          "base_uri": "https://localhost:8080/"
        },
        "id": "6PRt6wcwgFCQ",
        "outputId": "29e04867-5ad5-4203-9114-778cb3dfcbec"
      },
      "outputs": [],
      "source": [
        "voting.fit(X_train, y_train)"
      ]
    },
    {
      "cell_type": "code",
      "execution_count": null,
      "metadata": {
        "id": "hHZt39pLVD27"
      },
      "outputs": [],
      "source": [
        "y_pred = voting.predict(X_test)"
      ]
    },
    {
      "cell_type": "code",
      "execution_count": null,
      "metadata": {
        "id": "xvh1xkynrwfl"
      },
      "outputs": [],
      "source": [
        "mean_absolute_error(y_test, y_pred)"
      ]
    },
    {
      "cell_type": "code",
      "execution_count": null,
      "metadata": {
        "id": "yYB1f9GUQxZZ"
      },
      "outputs": [],
      "source": [
        "print(abs(y_pred - y_test)).mean()\n",
        "print(abs(y_pred - y_test)).max()\n",
        "print(abs(y_pred - y_test).min())"
      ]
    },
    {
      "cell_type": "code",
      "execution_count": null,
      "metadata": {
        "id": "bLAfk1EZrjeX"
      },
      "outputs": [],
      "source": [
        "df_test = pd.read_csv('https://raw.githubusercontent.com/d3vyatk4ru/DZ5ML/main/Test.csv')\n",
        "y = df_test.id.values"
      ]
    },
    {
      "cell_type": "code",
      "execution_count": null,
      "metadata": {
        "id": "6-1F6l3z43y5"
      },
      "outputs": [],
      "source": [
        "df_test = preprocessing_data(df_test, train=False)"
      ]
    },
    {
      "cell_type": "code",
      "execution_count": null,
      "metadata": {
        "id": "3woDbrJsyjAI"
      },
      "outputs": [],
      "source": [
        "X = df_test.values"
      ]
    },
    {
      "cell_type": "code",
      "execution_count": null,
      "metadata": {
        "id": "cBNQGBnTytCD"
      },
      "outputs": [],
      "source": [
        "X_test_scaler = scaler.transform(X)"
      ]
    },
    {
      "cell_type": "code",
      "execution_count": null,
      "metadata": {
        "id": "CVj47a3my4n1"
      },
      "outputs": [],
      "source": [
        "X_test_quadratic = quadratic.transform(X_test_scaler)"
      ]
    },
    {
      "cell_type": "code",
      "execution_count": null,
      "metadata": {
        "id": "2HgU1C-XzHGU"
      },
      "outputs": [],
      "source": [
        "y_tmp = voting.predict(X_test_quadratic)"
      ]
    },
    {
      "cell_type": "code",
      "execution_count": null,
      "metadata": {
        "colab": {
          "base_uri": "https://localhost:8080/"
        },
        "id": "ywbEkMv4BKyB",
        "outputId": "4c351082-354f-49d0-f85c-a4702ae3ac81"
      },
      "outputs": [],
      "source": [
        "from google.colab import drive\n",
        "drive.mount('/content/drive')"
      ]
    },
    {
      "cell_type": "code",
      "execution_count": null,
      "metadata": {
        "id": "7o3e9i3ZBRYx"
      },
      "outputs": [],
      "source": [
        "df = pd.DataFrame()\n",
        "df['id'] = y\n",
        "df['price'] = y_prev.price\n",
        "df.to_csv(\"/content/drive/MyDrive/price_flat_night0412+300k.csv\", index=False)"
      ]
    },
    {
      "cell_type": "code",
      "execution_count": null,
      "metadata": {
        "id": "9INrFSqdC4AQ"
      },
      "outputs": [],
      "source": []
    }
  ],
  "metadata": {
    "colab": {
      "collapsed_sections": [],
      "name": "DZ5ML.ipynb",
      "provenance": [],
      "toc_visible": true
    },
    "kernelspec": {
      "display_name": "Python 3",
      "name": "python3"
    },
    "language_info": {
      "name": "python"
    }
  },
  "nbformat": 4,
  "nbformat_minor": 0
}
