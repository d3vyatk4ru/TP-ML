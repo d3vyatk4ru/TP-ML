{
  "cells": [
    {
      "cell_type": "markdown",
      "metadata": {
        "id": "4w71kM-QL4mH"
      },
      "source": [
        "В качестве домашнего задания вам предлагается поработать над предсказанием погоды. Файл с данными вы найдете в соответствующей директории. Вам будет доступен датасет weather.csv, ПЕРВЫЕ 75% (shuffle = False) которого нужно взять для обучения, последние 25% - для тестирования.\n",
        "\n",
        "Требуется построить 4 модели которые будут предсказывать целевую переменную <b>RainTomorrow</b> с помощью:\n",
        "\n",
        "   1. логистической регрессии [sklearn.linear_model.LogisticRegression](https://scikit-learn.org/stable/modules/generated/sklearn.linear_model.LogisticRegression.html#sklearn.linear_model.LogisticRegression)\n",
        "   \n",
        "   2. метода ближайших соседей [sklearn.neighbors](https://scikit-learn.org/stable/modules/neighbors.html)\n",
        " \n",
        "   3. Байесовского классификатора [sklearn.naive_bayes](https://scikit-learn.org/stable/modules/naive_bayes.html)\n",
        "   \n",
        "   4. логистической регрессии реализованной самостоятельно\n",
        "\n",
        "Затем следует сравнить результаты моделей (по качеству и времени выполнения) и сделать вывод о том, какая модель и с какими параметрами даёт лучшие результаты.\n",
        "\n",
        "Не забывайте о том, что работа с признаками играет очень большую роль в построении хорошей модели.\n",
        "\n",
        "Краткое описание данных:\n",
        "\n",
        "    Date - Дата наблюдений\n",
        "    Location - Название локации, в которой расположена метеорологическая станция\n",
        "    MinTemp - Минимальная температура в градусах цельсия\n",
        "    MaxTemp - Максимальная температура в градусах цельсия\n",
        "    Rainfall - Количество осадков, зафиксированных за день в мм\n",
        "    Evaporation - Так называемое \"pan evaporation\" класса А (мм) за 24 часа до 9 утра\n",
        "    Sunshine - Число солнечных часов за день\n",
        "    WindGustDir - направление самого сильного порыва ветра за последние 24 часа\n",
        "    WindGustSpeed - скорость (км / ч) самого сильного порыва ветра за последние 24 часа\n",
        "    WindDir9am - направление ветра в 9 утра"
      ]
    },
    {
      "cell_type": "code",
      "execution_count": null,
      "metadata": {
        "id": "xOvhjqHOL4mO",
        "scrolled": true
      },
      "outputs": [],
      "source": [
        "import warnings\n",
        "warnings.filterwarnings(\"ignore\")\n",
        "import pandas as pd\n",
        "import numpy as np\n",
        "import seaborn as sns\n",
        "import time\n",
        "import matplotlib.pyplot as plt\n",
        "# --------------------------------------------------------\n",
        "from sklearn.datasets import make_classification\n",
        "from sklearn.model_selection import GridSearchCV\n",
        "from sklearn import preprocessing\n",
        "from sklearn.model_selection import train_test_split\n",
        "from sklearn.metrics import roc_curve, auc\n",
        "from sklearn.metrics import classification_report\n",
        "# --------------------------------------------------------\n",
        "from sklearn.linear_model import LogisticRegression\n",
        "from sklearn.naive_bayes import GaussianNB\n",
        "%matplotlib inline"
      ]
    },
    {
      "cell_type": "code",
      "execution_count": null,
      "metadata": {
        "id": "jBzGJ0CFpAW9"
      },
      "outputs": [],
      "source": [
        "def plot_ROC_AUC(clf, X, y):\n",
        "  \"\"\" \n",
        "  Рисует кривую ROC. \n",
        "\n",
        "  args:\n",
        "\n",
        "  clf --- классификатор;\n",
        "  X --- тестовая выборка;\n",
        "  y --- ответы на тестовой выборке;\n",
        "\n",
        "  \"\"\"\n",
        "  pred_proba = clf.predict_proba(X)\n",
        "  pred_proba = pred_proba[:, 1]\n",
        "\n",
        "  fpr, tpr, _ = roc_curve(y, pred_proba)\n",
        "  roc_auc = auc(fpr, tpr)\n",
        "\n",
        "  plt.figure(figsize=(8, 8))\n",
        "\n",
        "  plt.plot(fpr, tpr, color='darkorange',\n",
        "          label='ROC кривая (area = %0.2f)' % roc_auc)\n",
        "  plt.plot([0, 1], [0, 1], color='navy', linestyle='--')\n",
        "  plt.xlim([0.0, 1.0])\n",
        "  plt.ylim([0.0, 1.05])\n",
        "  plt.xlabel('False Positive Rate')\n",
        "  plt.ylabel('True Positive Rate')\n",
        "  plt.legend(loc=\"lower right\");\n",
        "  plt.grid()"
      ]
    },
    {
      "cell_type": "code",
      "execution_count": null,
      "metadata": {
        "id": "UHlbiANGL4mR"
      },
      "outputs": [],
      "source": [
        "X = pd.read_csv('https://raw.githubusercontent.com/d3vyatk4ru/DZ2ML/main/weather.csv', na_values=np.nan)"
      ]
    },
    {
      "cell_type": "markdown",
      "metadata": {
        "id": "NS7RamKaztDM"
      },
      "source": [
        "### Предобработка данных"
      ]
    },
    {
      "cell_type": "code",
      "execution_count": null,
      "metadata": {
        "id": "E6ilirnwL4mS"
      },
      "outputs": [],
      "source": [
        "# заменяем 'No' на 0, 'Yes' на 1 \n",
        "X.RainToday = X.RainToday.replace({'No': 0, 'Yes': 1})\n",
        "X.RainTomorrow = X.RainTomorrow.replace({'No':0, 'Yes': 1})\n",
        "\n",
        "# удаляем строки, где в столбце RainToday есть NaN\n",
        "X = X.dropna(axis='index', how='any', subset=[\"RainToday\"])\n",
        "\n",
        "# приводим дату к типу даты\n",
        "X[\"Date\"] = pd.DatetimeIndex(X[\"Date\"])"
      ]
    },
    {
      "cell_type": "code",
      "execution_count": null,
      "metadata": {
        "id": "uNweWU3jL4mS"
      },
      "outputs": [],
      "source": [
        "# записываем метки в отдельный массив\n",
        "y = X.RainTomorrow\n",
        "y = y.values\n",
        "\n",
        "# удаляем столбец с метками и стобец с номерами записей\n",
        "del X['RainTomorrow']\n",
        "del X[\"Unnamed: 0\"]"
      ]
    },
    {
      "cell_type": "code",
      "execution_count": null,
      "metadata": {
        "id": "2flJU4pPC2ay"
      },
      "outputs": [],
      "source": [
        "# приводим следующие 4 столбца к строковому типу, чтобы использовать LabelEncoder\n",
        "X[\"WindGustDir\"] = X[\"WindGustDir\"].astype(str)\n",
        "X[\"WindDir9am\"] = X[\"WindDir9am\"].astype(str)\n",
        "X[\"WindDir3pm\"] = X[\"WindDir3pm\"].astype(str)\n",
        "X[\"Location\"] = X[\"Location\"].astype(str)"
      ]
    },
    {
      "cell_type": "code",
      "execution_count": null,
      "metadata": {
        "id": "aoKnQKsowp8E"
      },
      "outputs": [],
      "source": [
        "# приводим к LabelEncoder\n",
        "le = preprocessing.LabelEncoder()\n",
        "X[\"WindGustDir\"] = le.fit_transform(X[\"WindGustDir\"])\n",
        "X[\"WindDir9am\"] = le.fit_transform(X[\"WindDir9am\"])\n",
        "X[\"WindDir3pm\"] = le.fit_transform(X[\"WindDir3pm\"])\n",
        "X[\"Location\"] = le.fit_transform(X[\"Location\"])"
      ]
    },
    {
      "cell_type": "code",
      "execution_count": null,
      "metadata": {
        "id": "64hqhCIRHHlG"
      },
      "outputs": [],
      "source": [
        "columns = list(X.columns)\n",
        "columns.remove(\"Date\"), columns.remove(\"Location\")\n",
        "for name in columns:\n",
        "  for month in X[\"Date\"].dt.month.unique():\n",
        "    cond = (X[\"Date\"].dt.month == month)\n",
        "    X[name][cond] = X[name][cond].fillna(X[name][cond].mean() if not np.isnan(X[name][cond].mean()) else 0.0)"
      ]
    },
    {
      "cell_type": "code",
      "execution_count": null,
      "metadata": {
        "id": "5mGwKLs_LKTG"
      },
      "outputs": [],
      "source": [
        "# в столбец с датой записываем только месяц\n",
        "X[\"Date\"] = X[\"Date\"].dt.month"
      ]
    },
    {
      "cell_type": "code",
      "execution_count": null,
      "metadata": {
        "id": "CecVAzg56jFh"
      },
      "outputs": [],
      "source": [
        "# DataFrame X будет использовать для kNN, так в нем проклятие размерности \n",
        "# будет проявлять себя еще более сильно. \n",
        "X_la = X[:]"
      ]
    },
    {
      "cell_type": "code",
      "execution_count": null,
      "metadata": {
        "id": "__PGTsT5pEg2"
      },
      "outputs": [],
      "source": [
        "# переводим следующие столбцы в OHE\n",
        "for column in (\"Location\", \"WindGustDir\", \"WindDir9am\", \"WindDir3pm\", \"Date\"):\n",
        "  X = pd.concat([X, pd.get_dummies(X[column], prefix=column)], axis=1)\n",
        "  del X[column]"
      ]
    },
    {
      "cell_type": "code",
      "execution_count": null,
      "metadata": {
        "id": "uvQtInv0xUgW"
      },
      "outputs": [],
      "source": [
        "X_values = X.values"
      ]
    },
    {
      "cell_type": "code",
      "execution_count": null,
      "metadata": {
        "id": "EDRVLOb5sMp1"
      },
      "outputs": [],
      "source": [
        "X_train, X_test, y_train, y_test = train_test_split(X_values, y, test_size=0.25, random_state=42, shuffle = False)\n",
        "\n",
        "scaler = preprocessing.StandardScaler()\n",
        "scaler.fit(X_train, y_train)\n",
        "\n",
        "# масштабирование теста и трэйна\n",
        "X_train_scaled = scaler.transform(X_train)\n",
        "X_test_scaled = scaler.transform(X_test)"
      ]
    },
    {
      "cell_type": "markdown",
      "metadata": {
        "id": "_D9NVfyw1QSd"
      },
      "source": [
        "### Логистическая регрессия"
      ]
    },
    {
      "cell_type": "code",
      "execution_count": null,
      "metadata": {
        "colab": {
          "base_uri": "https://localhost:8080/"
        },
        "id": "2rtNCFxFvEw6",
        "outputId": "6b647beb-c459-4fbf-c67a-e4c3c8ab94c2"
      },
      "outputs": [],
      "source": [
        "logReg = LogisticRegression(penalty='elasticnet', solver='saga', l1_ratio=0.9)\n",
        "\n",
        "# подбор с помощью сетки\n",
        "params = {\n",
        "          \"C\" : range(0, 1000, 100),\n",
        "}\n",
        "\n",
        "grid = GridSearchCV(logReg, params, cv=5)\n",
        "grid.fit(X_train_scaled, y_train)"
      ]
    },
    {
      "cell_type": "code",
      "execution_count": null,
      "metadata": {
        "colab": {
          "base_uri": "https://localhost:8080/"
        },
        "id": "j7pAMY64f1J_",
        "outputId": "45a91fea-2156-44b7-b9cf-0791ebe77566"
      },
      "outputs": [],
      "source": [
        "grid.best_params_"
      ]
    },
    {
      "cell_type": "code",
      "execution_count": null,
      "metadata": {
        "id": "Ii9UI3LrnoI8"
      },
      "outputs": [],
      "source": [
        "logReg = LogisticRegression(random_state=42,\n",
        "                            penalty='elasticnet',\n",
        "                            solver='saga',\n",
        "                            l1_ratio=0.9,\n",
        "                            max_iter=300,\n",
        "                            C=100\n",
        "                            )"
      ]
    },
    {
      "cell_type": "code",
      "execution_count": null,
      "metadata": {
        "colab": {
          "base_uri": "https://localhost:8080/"
        },
        "id": "KRud3uDEjRN1",
        "outputId": "a9aa0210-aa5b-4763-d12c-18bfe2fef778"
      },
      "outputs": [],
      "source": [
        "logReg.fit(X_train_scaled, y_train)"
      ]
    },
    {
      "cell_type": "code",
      "execution_count": null,
      "metadata": {
        "colab": {
          "base_uri": "https://localhost:8080/"
        },
        "id": "RvifV5o3ORiy",
        "outputId": "73ea0014-6e14-4aee-a940-48178d7e6315"
      },
      "outputs": [],
      "source": [
        "print(f'\\nScore of model is {logReg.score(X_test_scaled, y_test)}')"
      ]
    },
    {
      "cell_type": "code",
      "execution_count": null,
      "metadata": {
        "colab": {
          "base_uri": "https://localhost:8080/"
        },
        "id": "mOdklQHAn036",
        "outputId": "e27b20fa-a490-4b02-aa2d-1df4b4af72c6"
      },
      "outputs": [],
      "source": [
        "y_pred = logReg.predict(X_test_scaled)\n",
        "print(classification_report(y_test, y_pred, target_names=['Rain', 'No rain']))"
      ]
    },
    {
      "cell_type": "code",
      "execution_count": null,
      "metadata": {
        "colab": {
          "base_uri": "https://localhost:8080/",
          "height": 497
        },
        "id": "B-GJtj9dNQqT",
        "outputId": "27fb2b9b-88de-4482-8dde-89ff1a1b4b8e"
      },
      "outputs": [],
      "source": [
        "plot_ROC_AUC(logReg, X_test_scaled, y_test)"
      ]
    },
    {
      "cell_type": "markdown",
      "metadata": {
        "id": "_mSf5bI34Mno"
      },
      "source": [
        "### Метод ближайших соседей"
      ]
    },
    {
      "cell_type": "code",
      "execution_count": null,
      "metadata": {
        "id": "Z-N2wfIW4TQ6"
      },
      "outputs": [],
      "source": [
        "from sklearn.neighbors import KNeighborsClassifier"
      ]
    },
    {
      "cell_type": "code",
      "execution_count": null,
      "metadata": {
        "id": "f8kSzL2H7VVg"
      },
      "outputs": [],
      "source": [
        "X_la_values = X_la.values\n",
        "\n",
        "X_train, X_test, y_train, y_test = train_test_split(X_la_values, y, test_size=0.25, random_state=42)\n",
        "\n",
        "scaler = preprocessing.StandardScaler()\n",
        "scaler.fit(X_train, y_train)\n",
        "\n",
        "# масштабирование теста и трэйна\n",
        "X_train_scaled = scaler.transform(X_train)\n",
        "X_test_scaled = scaler.transform(X_test)"
      ]
    },
    {
      "cell_type": "code",
      "execution_count": null,
      "metadata": {
        "colab": {
          "base_uri": "https://localhost:8080/"
        },
        "id": "pTLSnU-S6uf6",
        "outputId": "cd25cdaf-6328-4a50-aab9-7d9646aa1d16"
      },
      "outputs": [],
      "source": [
        "# подбор кол-ва соседей без сетки \n",
        "for n_neighbors in range(7, 15, 2):\n",
        "  nbrs = KNeighborsClassifier(n_neighbors)\n",
        "  nbrs.fit(X_train_scaled, y_train)\n",
        "  print(f\"The acc for {n_neighbors} is equal {nbrs.score(X_test_scaled, y_test)}\\n\")"
      ]
    },
    {
      "cell_type": "code",
      "execution_count": null,
      "metadata": {
        "colab": {
          "base_uri": "https://localhost:8080/"
        },
        "id": "Tldr8J4_BQI1",
        "outputId": "3956ff9d-0e04-4152-bfc4-77130c2b577f"
      },
      "outputs": [],
      "source": [
        "nbrs = KNeighborsClassifier(n_neighbors=15, p=2)\n",
        "nbrs.fit(X_train_scaled, y_train)\n",
        "score_knn = nbrs.score(X_test_scaled, y_test)\n",
        "print(f\"The acc is equal {score_knn}\\n\")"
      ]
    },
    {
      "cell_type": "code",
      "execution_count": null,
      "metadata": {
        "colab": {
          "base_uri": "https://localhost:8080/"
        },
        "id": "1eJPjBHAPasb",
        "outputId": "106b8b12-7591-4b2b-b934-935d1cef3d41"
      },
      "outputs": [],
      "source": [
        "y_pred = nbrs.predict(X_test_scaled)\n",
        "print(classification_report(y_test, y_pred, target_names=['Rain', 'No rain']))"
      ]
    },
    {
      "cell_type": "code",
      "execution_count": null,
      "metadata": {
        "colab": {
          "base_uri": "https://localhost:8080/",
          "height": 497
        },
        "id": "FkgBjl3LPQok",
        "outputId": "4eef65c2-2d95-449c-aa8c-270c496395d5"
      },
      "outputs": [
        {
          "data": {
            "image/png": "[encoded data removed]",
            "text/plain": [
              "<Figure size 576x576 with 1 Axes>"
            ]
          },
          "metadata": {
            "needs_background": "light"
          },
          "output_type": "display_data"
        }
      ],
      "source": [
        "plot_ROC_AUC(nbrs, X_test_scaled, y_test)"
      ]
    },
    {
      "cell_type": "markdown",
      "metadata": {
        "id": "Z5HrZBFqR2yt"
      },
      "source": [
        "### Наивный Байес"
      ]
    },
    {
      "cell_type": "code",
      "execution_count": null,
      "metadata": {
        "colab": {
          "base_uri": "https://localhost:8080/"
        },
        "id": "vl0XzEvpR5V4",
        "outputId": "b387a907-138a-468e-e2d7-92fc075b8431"
      },
      "outputs": [],
      "source": [
        "prob = 0.9\n",
        "\n",
        "naiveBayes = GaussianNB(priors=[prob, 1 - prob])\n",
        "naiveBayes.fit(X_train_scaled, y_train)\n",
        "naiveBayes.score(X_test_scaled, y_test)"
      ]
    },
    {
      "cell_type": "code",
      "execution_count": null,
      "metadata": {
        "colab": {
          "base_uri": "https://localhost:8080/",
          "height": 497
        },
        "id": "qC56-h7jSypP",
        "outputId": "28d3092a-cff8-4c34-cce9-06dfb299a955"
      },
      "outputs": [
        {
          "data": {
            "image/png": "[encoded data removed]",
            "text/plain": [
              "<Figure size 576x576 with 1 Axes>"
            ]
          },
          "metadata": {
            "needs_background": "light"
          },
          "output_type": "display_data"
        }
      ],
      "source": [
        "plot_ROC_AUC(naiveBayes, X_test_scaled, y_test)"
      ]
    },
    {
      "cell_type": "markdown",
      "metadata": {
        "id": "UT2Z1yn2L4mT"
      },
      "source": [
        "### Реализация логистической регрессии\n",
        "__Логистическая регрессия__\n",
        "\n",
        "$$p(y|x) = a(x, \\theta) = \\sigma(\\langle x, \\theta \\rangle) = \\frac{1}{1 + \\exp(-\\langle \\theta, x_i \\rangle)}$$"
      ]
    },
    {
      "cell_type": "code",
      "execution_count": null,
      "metadata": {
        "id": "CsDAlHTkL4mT"
      },
      "outputs": [],
      "source": [
        "theta = np.array([1, 2, 3])\n",
        "\n",
        "X =  np.array([[ 1,  1, 1],\n",
        "               [-1, -2, 1],\n",
        "               [-1, -2, 2],\n",
        "               [-2, -2, -3]\n",
        "              ])\n",
        "\n",
        "y = np.array([1, 1, 0, 0])"
      ]
    },
    {
      "cell_type": "code",
      "execution_count": null,
      "metadata": {
        "id": "xpRK--pJL4mU"
      },
      "outputs": [],
      "source": [
        "def probability(theta, X):\n",
        "    result = 1 / ( 1 + np.exp(-np.dot(X, theta)))\n",
        "    return result\n",
        "\n",
        "prob = probability(theta, X)\n",
        "\n",
        "assert type(prob) == np.ndarray, 'Возвращается неверный тип'\n",
        "assert prob.shape == (X.shape[0],), 'Неверный размер массива'\n",
        "assert (prob.round(3) == [0.998, 0.119, 0.731, 0.]).all(), 'Функция считается неверно'"
      ]
    },
    {
      "cell_type": "markdown",
      "metadata": {
        "id": "6embRlaVL4mV"
      },
      "source": [
        "Функция предсказания метки класса, получает на вход вероятности принадлежности к классу 1 и выдает метки классов $y \\in \\{0, 1\\}$"
      ]
    },
    {
      "cell_type": "code",
      "execution_count": null,
      "metadata": {
        "id": "4Owa1KHPL4mX",
        "scrolled": true
      },
      "outputs": [],
      "source": [
        "def binary_class_prediction(theta, X, threshold =.5):\n",
        "    prob =  probability(theta, X)\n",
        "    result = np.asarray(prob)\n",
        "    result[np.where(prob > threshold)] = 1\n",
        "    result[np.where(prob <= threshold)] = 0\n",
        "    return result\n",
        "\n",
        "y_pred = binary_class_prediction(theta, X)\n",
        "\n",
        "\n",
        "assert type(y_pred) == np.ndarray, 'Возвращается неверный тип'\n",
        "assert y_pred.shape == (X.shape[0],), 'Неверный размер массива'\n",
        "assert min(y_pred) == 0, 'Функция считается неверно'\n",
        "assert max(y_pred) == 1, 'Функция считается неверно'"
      ]
    },
    {
      "cell_type": "markdown",
      "metadata": {
        "id": "uHp3Z5FpL4mY"
      },
      "source": [
        "__Функционал качества логистической регрессии__\n",
        "\n",
        "Запишем правдободовие выборки для меток класса $y \\in \\{+1, -1\\}$ \n",
        "\n",
        "$$Likelihood(a, X^\\ell) = \\prod_{i = 1}^{\\ell} a(x_i,\\theta)^{[y_i = +1]} (1 - a(x_i, \\theta))^{[y_i = -1]} → \\operatorname*{max}_{\\theta}$$ \n",
        "\n",
        "Прологарифмируем правдоподобие выборки и перейдем к задаче минимизации:\n",
        "\n",
        "$$Q(a, X^\\ell) =     -\\sum_{i = 1}^{\\ell} \n",
        "        [y_i = +1] \\log a(x_i, \\theta)\n",
        "        +\n",
        "        [y_i = -1] \\log (1 - a(x_i, \\theta)) \\to \\operatorname*{min}_{\\theta}$$ \n",
        "        \n",
        "Подставим $a(x, \\theta)$ в функцинал качества:\n",
        "\n",
        "$$ Q(a, X^\\ell) = -\\sum_{i = 1}^{\\ell} \\left(\n",
        "    [y_i = +1]\n",
        "    \\log \\frac{1}{1 + \\exp(-\\langle \\theta, x_i \\rangle)}\n",
        "    +\n",
        "    [y_i = -1]\n",
        "    \\log \\frac{\\exp(-\\langle \\theta, x_i \\rangle)}{1 + \\exp(-\\langle \\theta, x_i \\rangle)}\n",
        "\\right)\n",
        "=\\\\\n",
        "=\n",
        "-\\sum_{i = 1}^{\\ell} \\left(\n",
        "    [y_i = +1]\n",
        "    \\log \\frac{1}{1 + \\exp(-\\langle \\theta, x_i \\rangle)}\n",
        "    +\n",
        "    [y_i = -1]\n",
        "    \\log \\frac{1}{1 + \\exp(\\langle \\theta, x_i \\rangle)}\n",
        "\\right)\n",
        "=\\\\\n",
        "=\n",
        "\\sum_{i = 1}^{\\ell}\n",
        "    \\log \\left(\n",
        "        1 + \\exp(-y_i \\langle \\theta, x_i \\rangle)\n",
        "    \\right) $$\n",
        "    "
      ]
    },
    {
      "cell_type": "markdown",
      "metadata": {
        "id": "frT8HrGRL4mZ"
      },
      "source": [
        "Итоговый оптимизируемый функционал качества (logloss), записанный для меток классов $y \\in \\{+1, -1\\}$ и усредненный по выборке"
      ]
    },
    {
      "cell_type": "markdown",
      "metadata": {
        "id": "vOqcEusEL4mZ"
      },
      "source": [
        "$$Q(a, X^\\ell) = \\frac{1}{\\ell}\\sum_{i = 1}^{\\ell}\n",
        "    \\log \\left( 1 + \\exp(-y_i \\langle \\theta, x_i \\rangle)\n",
        "    \\right) \\to \\operatorname*{min}_{\\theta} $$"
      ]
    },
    {
      "cell_type": "markdown",
      "metadata": {
        "id": "EFY-76odL4ma"
      },
      "source": [
        "Реализуем его в функции logloss:"
      ]
    },
    {
      "cell_type": "code",
      "execution_count": null,
      "metadata": {
        "id": "qVjIGJ7fL4ma"
      },
      "outputs": [],
      "source": [
        "def logloss(theta, X, y): \n",
        "\n",
        "    y[np.where(y == 0)] = -1\n",
        "    result = np.log(1 + np.exp(-y * np.dot(X, theta))).sum() / X.shape[0]\n",
        "    \n",
        "    return result"
      ]
    },
    {
      "cell_type": "code",
      "execution_count": null,
      "metadata": {
        "id": "dmIXh4S6L4mb"
      },
      "outputs": [],
      "source": [
        "assert logloss(theta, X, y).round(3) == 0.861, 'Функция считается неверно'"
      ]
    },
    {
      "cell_type": "markdown",
      "metadata": {
        "id": "swW2oeKnL4mb"
      },
      "source": [
        "__Алгоритм оптимизации функционала качества. Стохастический градиентный спуск__"
      ]
    },
    {
      "cell_type": "markdown",
      "metadata": {
        "id": "kOgQuZXlL4mc"
      },
      "source": [
        "<b>Вход: </b> Выборка $X^\\ell$, темп обучения $h$\n",
        "\n",
        "<b>Выход: </b> оптимальный вектор весов $\\theta$\n",
        "\n",
        "1.  Инициализировать веса $\\theta$\n",
        "2.  Инициализировать оценку функционала качества: $Q(a, X^\\ell)$\n",
        "3.  <b>Повторять</b>: \n",
        "\n",
        "    Выбрать случайным образом подвыборку объектов $X^{batch} =\\{x_1, \\dots,x_n \\}$ из $X^{\\ell}$\n",
        "    \n",
        "    Рассчитать градиент функционала качества: $\\nabla Q(X^{batch}, \\theta)$\n",
        "    \n",
        "    Обновить веса: $\\theta := \\theta - h\\cdot \\nabla Q(X^{batch}, \\theta)$\n",
        "       \n",
        "    <b>Пока</b> значение $Q$ и/или веса $\\theta$ не сойдутся   "
      ]
    },
    {
      "cell_type": "markdown",
      "metadata": {
        "id": "-FGt3X9SL4mc"
      },
      "source": [
        "Реализуем функцию рассчета градиента функционала качества"
      ]
    },
    {
      "cell_type": "markdown",
      "metadata": {
        "id": "LAr7URROL4md"
      },
      "source": [
        "$$\\frac{\\partial Q(a, X^{batch}) }{\\partial \\theta_j}   = \\frac{\\partial \\frac{1}{n}\\sum_{i = 1}^{n}\n",
        "    \\log \\left(\n",
        "        1 + \\exp(- y_i \\langle \\theta, x_i \\rangle)\n",
        "    \\right)} {\\partial \\theta_j}  = \\frac{1}{n}\\sum_{i = 1}^{n}\n",
        "     \\frac {1}{\n",
        "        1 + \\exp(- y_i \\langle \\theta, x_i \\rangle)} \\cdot  \\exp(- y_i \\langle \\theta, x_i \\rangle) \\cdot -y_i x_{ij}$$"
      ]
    },
    {
      "cell_type": "markdown",
      "metadata": {
        "id": "Hny2QwXXL4md"
      },
      "source": [
        "Реализуйте рассчет градиента в матричном виде:"
      ]
    },
    {
      "cell_type": "code",
      "execution_count": null,
      "metadata": {
        "id": "3Fwg5TfgL4md"
      },
      "outputs": [],
      "source": [
        "def gradient(theta, X, y):\n",
        "\n",
        "    y[np.where(y == 0)] = -1\n",
        "    result = X.T.dot(1 / (1 + np.exp(-y * X.dot(theta))) * np.exp(-y * X.dot(theta)) * (-y))\n",
        "\n",
        "    return result / X.shape[0] \n",
        "\n",
        "\n",
        "assert gradient(theta, X, y).shape == theta.shape, 'Неверный размер массива'"
      ]
    },
    {
      "cell_type": "markdown",
      "metadata": {
        "id": "LHbx5Ug4L4me"
      },
      "source": [
        "Функция обучения уже реализована"
      ]
    },
    {
      "cell_type": "code",
      "execution_count": null,
      "metadata": {
        "id": "Tmydg5dWL4me"
      },
      "outputs": [],
      "source": [
        "def fit(X, y, batch_size=10, h=0.05,  iters=100, plot=True):\n",
        "\n",
        "    # получаем размерности матрицы\n",
        "    size, dim = X.shape\n",
        "\n",
        "    # случайная начальная инициализация\n",
        "    theta = np.random.uniform(size=dim)\n",
        "    \n",
        "    errors = []\n",
        "    \n",
        "    theta_history = theta\n",
        "    colors = [plt.get_cmap('gist_rainbow')(i) for i in np.linspace(0,1,dim)]\n",
        "    \n",
        "    # plt \n",
        "    if plot:\n",
        "        fig = plt.figure(figsize=(15, 10))\n",
        "        ax1 = fig.add_subplot(221)\n",
        "        ax2 = fig.add_subplot(222)\n",
        "        ax3 = fig.add_subplot(212)\n",
        "        fig.suptitle('Gradient descent')\n",
        "        \n",
        "        \n",
        "    for _ in range(iters):  \n",
        "        \n",
        "        # берём случайный набор элементов\n",
        "        batch = np.random.choice(size, batch_size, replace=False)\n",
        "        X_batch = X[batch]\n",
        "        y_batch = y[batch]\n",
        "\n",
        "        # считаем производные\n",
        "        grad = gradient(theta, X_batch, y_batch)\n",
        "        \n",
        "        assert type(grad) == np.ndarray, 'неверный тип'\n",
        "        assert len(grad.shape) == 1, 'Необходимо вернуть одномерный вектор'\n",
        "        assert grad.shape[0] == len(theta), 'длина вектора должна быть равной количеству весов'\n",
        "        \n",
        "        \n",
        "        # Обновляем веса\n",
        "        \n",
        "        theta -= grad * h\n",
        "        \n",
        "        theta_history = np.vstack((theta_history, theta))\n",
        "        \n",
        "        # error\n",
        "        loss = logloss(theta, X, y)\n",
        "        errors.append(loss)\n",
        "        \n",
        "        if plot:\n",
        "            ax1.clear()            \n",
        "            ax1.scatter(range(dim), theta, label='Gradient solution')\n",
        "            ax1.legend(loc=\"upper left\")\n",
        "            ax1.set_title('theta')\n",
        "            ax1.set_ylabel(r'$\\bar \\beta$')\n",
        "            ax1.set_xlabel('weight ID')\n",
        "            \n",
        "            \n",
        "            ax2.plot(range(_+1), errors, 'g-')\n",
        "            ax2.set_title('logloss')\n",
        "            ax2.set_xlabel('itarations')\n",
        "            \n",
        "            ax3.plot(theta_history)\n",
        "            ax3.set_title('update theta')\n",
        "            ax3.set_ylabel('value')\n",
        "            ax3.set_xlabel('itarations')\n",
        "            time.sleep(0.05)\n",
        "            fig.canvas.draw()   \n",
        "            \n",
        "    return theta"
      ]
    },
    {
      "cell_type": "code",
      "execution_count": null,
      "metadata": {
        "id": "VSyXRMjXL4mf"
      },
      "outputs": [],
      "source": [
        "X, y = make_classification(n_samples=2000)"
      ]
    },
    {
      "cell_type": "code",
      "execution_count": null,
      "metadata": {
        "colab": {
          "base_uri": "https://localhost:8080/",
          "height": 677
        },
        "id": "ZFEC5RGdL4mf",
        "outputId": "8a6a2e39-f958-4682-e1d3-fcce49ddc18b"
      },
      "outputs": [],
      "source": [
        "optimal_theta = fit(X, y)"
      ]
    },
    {
      "cell_type": "markdown",
      "metadata": {
        "id": "DfIu1eqKfCSq"
      },
      "source": [
        "### Своя логистическая регрессия для погоды"
      ]
    },
    {
      "cell_type": "code",
      "execution_count": null,
      "metadata": {
        "colab": {
          "base_uri": "https://localhost:8080/",
          "height": 677
        },
        "id": "PpdsU5_8ZdPG",
        "outputId": "ff0ac065-f277-4ca6-ff83-d03f7879262e"
      },
      "outputs": [],
      "source": [
        "optimal_theta = fit(X_train_scaled, y_train, iters=200)"
      ]
    },
    {
      "cell_type": "code",
      "execution_count": null,
      "metadata": {
        "id": "NDC4ZtndenR9"
      },
      "outputs": [],
      "source": [
        "y_pred = binary_class_prediction(optimal_theta, X_test_scaled, threshold=0.83)"
      ]
    },
    {
      "cell_type": "code",
      "execution_count": null,
      "metadata": {
        "colab": {
          "base_uri": "https://localhost:8080/"
        },
        "id": "jDHL3vNBexZ6",
        "outputId": "1b1792d5-b2d9-4314-de08-006f2a3a5bfb"
      },
      "outputs": [
        {
          "name": "stdout",
          "output_type": "stream",
          "text": [
            "The acc is equal 0.8271159473818791\n"
          ]
        }
      ],
      "source": [
        "print(f\"The acc is equal {(y_pred == y_test).sum() / len(y_pred)}\")"
      ]
    },
    {
      "cell_type": "code",
      "execution_count": null,
      "metadata": {
        "colab": {
          "base_uri": "https://localhost:8080/"
        },
        "id": "a5uDZrJXfT7f",
        "outputId": "a42c9429-7d6c-45ed-9f25-5372cab8d707"
      },
      "outputs": [],
      "source": [
        "print(classification_report(y_test, y_pred, target_names=['Rain', 'No rain']))"
      ]
    },
    {
      "cell_type": "markdown",
      "metadata": {
        "id": "tsdbkPn9fYYd"
      },
      "source": [
        "# Выводы"
      ]
    },
    {
      "cell_type": "markdown",
      "metadata": {
        "id": "f2FZCYr3yQ61"
      },
      "source": [
        "Лучшие результаты по качеству и времени выполнения показала логистическая регрессия.\n",
        "Метрики можно увидеть в ячейке выполнения.\n",
        "Параметры при которых были достигнуты эту результаты:\n",
        "C = 100, intercept_scaling = 1, l1_ratio = 0.9, \n",
        "max_iter = 300, penalty = 'elasticnet', solver = 'saga', tol = 0.0001\n",
        "\n",
        "Метод прижайшего соседа дает результаты сравнимые с лог. ререссией, однако этот метод более\n",
        "\"тяжеловестный\", так как является непараметрическим и просто запоминает обучающую выборку и \n",
        "при классификации новой выборки (в нашем случае тестовой) выполняется очень долго. Так же\n",
        "этот метод сильнее всего подвержен проклятию рамерности, так как чем больше и разреженнее\n",
        "признаковое пространство, тем дольше выполняются вычисления. Параметры следующие:\n",
        "n_neighbors = 15, weights = 'uniform', metric = 'minkowski', p = 2\n",
        "\n",
        "Наивный Байес на нормальном распредлении показал худший результат по качеству.\n",
        "\n",
        "Собственная реализация логистической регрессии, показала результат хуже, чем библиотечная реализация, если рассматривать порог равный 0.5, в силу того, что шаг градиента постоянный, не было ни одной регуляриции. Если варьировать порог для конкретной задачи и подобрать его, то качество сравнимо с библиотечными функйиями. Время обучения тоже дольше, так это было реализовано с помощью медленногоя ызка Python. (Numpy, конечно, на С, но там есть цикл в обучении и он долгий)"
      ]
    },
    {
      "cell_type": "code",
      "execution_count": null,
      "metadata": {
        "id": "Hg3jWIOUytXx"
      },
      "outputs": [],
      "source": []
    }
  ],
  "metadata": {
    "accelerator": "GPU",
    "colab": {
      "collapsed_sections": [],
      "name": "ДЗ2.ipynb",
      "provenance": [],
      "toc_visible": true
    },
    "kernelspec": {
      "display_name": "Python 3",
      "language": "python",
      "name": "python3"
    },
    "language_info": {
      "codemirror_mode": {
        "name": "ipython",
        "version": 3
      },
      "file_extension": ".py",
      "mimetype": "text/x-python",
      "name": "python",
      "nbconvert_exporter": "python",
      "pygments_lexer": "ipython3",
      "version": "3.7.6"
    }
  },
  "nbformat": 4,
  "nbformat_minor": 0
}
