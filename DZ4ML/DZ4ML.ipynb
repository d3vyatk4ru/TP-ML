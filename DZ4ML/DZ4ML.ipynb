{
  "cells": [
    {
      "cell_type": "code",
      "execution_count": null,
      "metadata": {
        "id": "rR2iRVuyF8nv"
      },
      "outputs": [],
      "source": [
        "%matplotlib inline"
      ]
    },
    {
      "cell_type": "code",
      "execution_count": null,
      "metadata": {
        "colab": {
          "base_uri": "https://localhost:8080/"
        },
        "id": "-n9Q-leJFhh5",
        "outputId": "194ece3d-79d6-4da5-86f5-a41b8388e4cb"
      },
      "outputs": [],
      "source": [
        "!pip install pandas\n",
        "import pandas as pd\n",
        "\n",
        "!pip install matplotlib\n",
        "import matplotlib.pyplot as plt\n",
        "\n",
        "!pip install numpy\n",
        "import numpy as np\n",
        "\n",
        "plt.style.use('seaborn-talk')\n",
        "plt.rcParams['figure.figsize'] = (15,10)\n",
        "plt.style.use('ggplot')"
      ]
    },
    {
      "cell_type": "markdown",
      "metadata": {
        "id": "YcxQu-3_FquK"
      },
      "source": [
        "# Задача про датчики на руках"
      ]
    },
    {
      "cell_type": "markdown",
      "metadata": {
        "id": "tHVrr5GiFusm"
      },
      "source": [
        "В этом задании мы применим метод главных компонент на многомерных данных и постараемся найти оптимальную размерность признаков для решения задачи классификации\n",
        "\n",
        "Исходными данными являются показания различных сенсоров, установленных на руках человека, который умеет общаться на языке жестов.\n",
        "\n",
        "В данном случае задача ставится следующим образом: по показаниям датчиков (по 11 сенсоров на каждую руку) определить слово, которое было показано человеком.\n",
        "\n",
        "Как можно решать такую задачу?\n",
        "\n",
        "Показания датчиков представляются в виде временных рядов. Посмотрим на показания для одного из \"слов\""
      ]
    },
    {
      "cell_type": "code",
      "execution_count": null,
      "metadata": {
        "id": "3AL4aNtuFvG_"
      },
      "outputs": [],
      "source": [
        "# Загружаем данные сенсоров\n",
        "df_database = pd.read_csv('https://raw.githubusercontent.com/vadim0912/MLIntro2021/main/lecture06/data/sign_database.csv')\n",
        "\n",
        "# Загружаем метки классов\n",
        "sign_classes = pd.read_csv('https://raw.githubusercontent.com/vadim0912/MLIntro2021/main/lecture06/data/sign_classes.csv', index_col=0, header=0, names=['id', 'class'])"
      ]
    },
    {
      "cell_type": "code",
      "execution_count": null,
      "metadata": {
        "colab": {
          "base_uri": "https://localhost:8080/",
          "height": 226
        },
        "id": "Fn8q-UWVFw5n",
        "outputId": "2f5c9c10-d201-4426-8550-2e0167739a29"
      },
      "outputs": [],
      "source": [
        "# Столбец id - идентификаторы \"слов\"\n",
        "# Столбец time - метка времени\n",
        "# Остальные столбцы - показания серсоров для слова id в момент времени time\n",
        "\n",
        "df_database.head()"
      ]
    },
    {
      "cell_type": "code",
      "execution_count": null,
      "metadata": {
        "id": "43FtUrBGF4_0"
      },
      "outputs": [],
      "source": [
        "# Выберем одно из слов с идентификатором = 0\n",
        "sign0 = df_database.query('id == 0')\\\n",
        "                   .drop(['id'], axis=1)\\\n",
        "                   .set_index('time')"
      ]
    },
    {
      "cell_type": "code",
      "execution_count": null,
      "metadata": {
        "colab": {
          "base_uri": "https://localhost:8080/",
          "height": 634
        },
        "id": "qBM7XIYiHEdq",
        "outputId": "f97c3f96-75ca-4750-e45f-45fb4e0d73f4"
      },
      "outputs": [],
      "source": [
        "sign0.plot()"
      ]
    },
    {
      "cell_type": "markdown",
      "metadata": {
        "id": "DL3iLpNTHPie"
      },
      "source": [
        "Для каждого из \"слов\" у нас есть набор показаний сенсоров с разных частей руки в каждый момент времени.\n",
        "\n",
        "Идея нашего подхода будет заключаться в следующем – давайте для каждого сенсора составим набор характеристик (например, разброс значений, максимальное, минимальное, среднее значение, количество \"пиков\", и т.п.) и будем использовать эти новые \"признаки\" для решения задачи классификации."
      ]
    },
    {
      "cell_type": "code",
      "execution_count": null,
      "metadata": {
        "colab": {
          "base_uri": "https://localhost:8080/"
        },
        "id": "gz8fFJVvHGWg",
        "outputId": "89587e75-e99b-4254-dc1c-87985a7bb27d"
      },
      "outputs": [],
      "source": [
        "!pip install scikit-learn\n",
        "from sklearn.preprocessing import LabelEncoder"
      ]
    },
    {
      "cell_type": "code",
      "execution_count": null,
      "metadata": {
        "colab": {
          "base_uri": "https://localhost:8080/"
        },
        "id": "LUAeSx3lHZoH",
        "outputId": "7074a287-d48e-44f5-c711-8ccacb27d8bb"
      },
      "outputs": [],
      "source": [
        "!wget https://www.dropbox.com/s/x6b9mqxlw5ijcuf/tsfresh_features_filt.csv.gz?dl=0 -O tsfresh_features_filt.csv.gz\n",
        "filepath = 'tsfresh_features_filt.csv.gz'\n",
        "sign_features_filtered = pd.read_csv(filepath)"
      ]
    },
    {
      "cell_type": "code",
      "execution_count": null,
      "metadata": {
        "colab": {
          "base_uri": "https://localhost:8080/"
        },
        "id": "xK2AVcxAHbRb",
        "outputId": "b42a9161-dc26-40a0-c933-8c705fc3837d"
      },
      "outputs": [],
      "source": [
        "sign_features_filtered.shape"
      ]
    },
    {
      "cell_type": "code",
      "execution_count": null,
      "metadata": {
        "colab": {
          "base_uri": "https://localhost:8080/",
          "height": 273
        },
        "id": "BEcqtHswJZKv",
        "outputId": "5deed0df-c01c-4486-a039-ae8d83ad2c42"
      },
      "outputs": [],
      "source": [
        "sign_features_filtered.head()"
      ]
    },
    {
      "cell_type": "markdown",
      "metadata": {
        "id": "tfmfrhfhJeOR"
      },
      "source": [
        "# Базовая модель"
      ]
    },
    {
      "cell_type": "markdown",
      "metadata": {
        "id": "x7J1_cVkJgbQ"
      },
      "source": [
        "В результате у нас получилось очень много признаков (11516 или больше), давайте применим метод главных компонент, чтобы получить сжатое признаковое представление, сохранив при этом предиктивную силу в модели."
      ]
    },
    {
      "cell_type": "code",
      "execution_count": null,
      "metadata": {
        "id": "sNviN6E1JajG"
      },
      "outputs": [],
      "source": [
        "from sklearn.model_selection import cross_val_score\n",
        "from sklearn.model_selection import StratifiedKFold\n",
        "from sklearn.neighbors import KNeighborsClassifier\n",
        "from sklearn.decomposition import PCA\n",
        "from sklearn.preprocessing import StandardScaler\n",
        "from sklearn.pipeline import Pipeline"
      ]
    },
    {
      "cell_type": "markdown",
      "metadata": {
        "id": "PVC56T0VJlGt"
      },
      "source": [
        "Создадим бейзлайн без уменьшения размерности. Гиперпараметры модели подбирались произвольно"
      ]
    },
    {
      "cell_type": "code",
      "execution_count": null,
      "metadata": {
        "id": "HLXHDjWGJi_G"
      },
      "outputs": [],
      "source": [
        "# Подготовим данные на вход в модель\n",
        "X = sign_features_filtered.values\n",
        "y = sign_classes.values"
      ]
    },
    {
      "cell_type": "code",
      "execution_count": null,
      "metadata": {
        "colab": {
          "base_uri": "https://localhost:8080/"
        },
        "id": "ZfZVqsH8Js2p",
        "outputId": "b0ec01e4-77a5-47c0-efc0-6f5f787a31f9"
      },
      "outputs": [],
      "source": [
        "# Будем делать кросс-валидацию на 5 фолдов\n",
        "cv = StratifiedKFold(n_splits=5, shuffle=True, random_state=123)\n",
        "\n",
        "base_model = Pipeline([\n",
        "    ('scaler', StandardScaler()),\n",
        "    ('clf', KNeighborsClassifier(n_neighbors=9))\n",
        "])\n",
        "\n",
        "base_cv_scores = cross_val_score(base_model, X, y, cv=cv, scoring='accuracy')"
      ]
    },
    {
      "cell_type": "code",
      "execution_count": null,
      "metadata": {
        "colab": {
          "base_uri": "https://localhost:8080/"
        },
        "id": "u-zeL4AVJ39g",
        "outputId": "5ec028c8-5a84-4818-99f1-31fb60526361"
      },
      "outputs": [],
      "source": [
        "base_cv_scores.mean()"
      ]
    },
    {
      "cell_type": "markdown",
      "metadata": {
        "id": "mZXw9x3DMVhP"
      },
      "source": [
        "### Пайплайн с PCA"
      ]
    },
    {
      "cell_type": "code",
      "execution_count": null,
      "metadata": {
        "id": "s7L4tq0VMYjm"
      },
      "outputs": [],
      "source": [
        "scaler = StandardScaler()\n",
        "Z = scaler.fit_transform(X)"
      ]
    },
    {
      "cell_type": "code",
      "execution_count": null,
      "metadata": {
        "id": "BRsJdFB9Nmrs"
      },
      "outputs": [],
      "source": [
        "pca = PCA(svd_solver='randomized', random_state=123)\n",
        "Z = pca.fit_transform(Z)"
      ]
    },
    {
      "cell_type": "code",
      "execution_count": null,
      "metadata": {
        "id": "2_wMzc4UpdVX"
      },
      "outputs": [],
      "source": [
        "ob_dis = pca.explained_variance_ratio_"
      ]
    },
    {
      "cell_type": "markdown",
      "metadata": {
        "id": "BN986mnHuvnW"
      },
      "source": [
        "Рассматриваем только те дисперсии, которые превышают значение 1e-3, потому что дальше, чтобы увеличить кол-во информации на условную единицу надо прибавлять больше компонент"
      ]
    },
    {
      "cell_type": "code",
      "execution_count": null,
      "metadata": {
        "colab": {
          "base_uri": "https://localhost:8080/"
        },
        "id": "dxTUI36-r9ZW",
        "outputId": "ee3fbdfc-a4fc-4ef1-a135-438009d499f9"
      },
      "outputs": [],
      "source": [
        "upper1e3 = np.cumsum(ob_dis[np.where(ob_dis > 1e-3)])\n",
        "\n",
        "print(f'Количество информации в первых {len(upper1e3)} компонентах: {upper1e3[-1]}')"
      ]
    },
    {
      "cell_type": "code",
      "execution_count": null,
      "metadata": {
        "colab": {
          "base_uri": "https://localhost:8080/"
        },
        "id": "u5ynYkZkJ44a",
        "outputId": "cdb502cc-b7d9-4f15-df4f-d70427eee87a"
      },
      "outputs": [],
      "source": [
        "# Будем делать кросс-валидацию на 5 фолдов\n",
        "cv = StratifiedKFold(n_splits=5, shuffle=True, random_state=123)\n",
        "\n",
        "model_with_pca = Pipeline([\n",
        "    ('scaler', StandardScaler()),\n",
        "    ('PCA', PCA(svd_solver='randomized', random_state=123, n_components=len(upper1e3))),\n",
        "    ('clf', KNeighborsClassifier(n_neighbors=9))\n",
        "])\n",
        "\n",
        "pca_cv_scores = cross_val_score(model_with_pca, X, y, cv=cv, scoring='accuracy')"
      ]
    },
    {
      "cell_type": "code",
      "execution_count": null,
      "metadata": {
        "colab": {
          "base_uri": "https://localhost:8080/"
        },
        "id": "AK6rSgnlKndd",
        "outputId": "e0d50e5d-5656-4a11-ed61-6b18375bb6e6"
      },
      "outputs": [
        {
          "data": {
            "text/plain": [
              "0.9115009746588694"
            ]
          },
          "execution_count": 20,
          "metadata": {},
          "output_type": "execute_result"
        }
      ],
      "source": [
        "pca_cv_scores.mean()"
      ]
    },
    {
      "cell_type": "code",
      "execution_count": null,
      "metadata": {
        "colab": {
          "base_uri": "https://localhost:8080/",
          "height": 617
        },
        "id": "qj_UUXhjL9eb",
        "outputId": "b9fee65f-5386-4e9c-d765-193dc211376e"
      },
      "outputs": [],
      "source": [
        "using_dis = ob_dis[np.where(ob_dis > 1e-3)]\n",
        "\n",
        "fig, (ax1, ax2) = plt.subplots(1, 2)\n",
        "\n",
        "ax1.scatter(range(ob_dis.shape[0]), ob_dis)\n",
        "ax1.scatter(range(using_dis.shape[0]), using_dis)\n",
        "\n",
        "ax2.scatter(range(using_dis.shape[0]), using_dis, c='g')\n",
        "\n",
        "ax1.legend( ['Не использованная объяснённая дисперсия','Доля объяснённой дисперсии при найденной настройке PCA'])\n",
        "\n",
        "ax2.legend(['Доля объяснённой дисперсии при найденной настройке PCA'], loc=10)"
      ]
    },
    {
      "cell_type": "markdown",
      "metadata": {
        "id": "Us__P55W3xYC"
      },
      "source": [
        "# Задача про кластеризацию текстов"
      ]
    },
    {
      "cell_type": "markdown",
      "metadata": {
        "id": "JjWt7ZSl32oS"
      },
      "source": [
        "Рассмотрим коллекцию новостных сообщений за первую половину 2017 года. Про каждое новостное сообщение известны:\n",
        "\n",
        "* его заголовок и текст\n",
        "* дата его публикации\n",
        "* событие, о котором это новостное сообщение написано\n",
        "* его рубрика\n"
      ]
    },
    {
      "cell_type": "code",
      "execution_count": null,
      "metadata": {
        "colab": {
          "base_uri": "https://localhost:8080/",
          "height": 206
        },
        "id": "ku0RUlLVwjjW",
        "outputId": "007d3c10-3ed4-4b9d-d065-afd0070e3c3f"
      },
      "outputs": [],
      "source": [
        "df = pd.read_csv('https://raw.githubusercontent.com/vadim0912/MLIntro2021/main/lecture06/data/news.csv', encoding='utf8')\n",
        "df.head()"
      ]
    },
    {
      "cell_type": "code",
      "execution_count": null,
      "metadata": {
        "colab": {
          "base_uri": "https://localhost:8080/"
        },
        "id": "VVqRU2Qk4Dut",
        "outputId": "7eee4235-b11f-4e3f-e562-203766274d6e"
      },
      "outputs": [],
      "source": [
        "df.loc[:, 'class'].value_counts()"
      ]
    },
    {
      "cell_type": "markdown",
      "metadata": {
        "id": "9EPlImBn4KOu"
      },
      "source": [
        "Попробуем кластеризовать документы (каким-либо методом) и сравним полученное разбиение с данными рубликами с помощью ARI"
      ]
    },
    {
      "cell_type": "markdown",
      "metadata": {
        "id": "Ul6wlGbR4L05"
      },
      "source": [
        "### Стандартная предобработка текстов"
      ]
    },
    {
      "cell_type": "markdown",
      "metadata": {
        "id": "CpUvTGYs4P-3"
      },
      "source": [
        "Ниже выполняется набор операций по предобработке текстов."
      ]
    },
    {
      "cell_type": "code",
      "execution_count": null,
      "metadata": {
        "id": "qZACWotV4O3_"
      },
      "outputs": [],
      "source": [
        "import re\n",
        "\n",
        "# Оставляем только кириллические символы\n",
        "regex = re.compile(u\"[А-Яа-я]+\")\n",
        "\n",
        "def words_only(text, regex=regex):\n",
        "    return \" \".join(regex.findall(text))\n",
        "\n",
        "\n",
        "df.text = df.text.str.lower()\n",
        "df.loc[:, 'text'] = df.text.apply(words_only)"
      ]
    },
    {
      "cell_type": "code",
      "execution_count": null,
      "metadata": {
        "colab": {
          "base_uri": "https://localhost:8080/"
        },
        "id": "vI6NUPYR4UPu",
        "outputId": "c862fa63-0e2d-4242-d304-b53f430bd5ee"
      },
      "outputs": [],
      "source": [
        "!pip install nltk\n",
        "import nltk"
      ]
    },
    {
      "cell_type": "code",
      "execution_count": null,
      "metadata": {
        "colab": {
          "base_uri": "https://localhost:8080/"
        },
        "id": "uywKJVNy4nQ_",
        "outputId": "98ee4b72-80f2-471f-d140-09bdf5fda913"
      },
      "outputs": [],
      "source": [
        "from nltk.corpus import stopwords\n",
        "\n",
        "nltk.download('stopwords')\n",
        "\n",
        "# Удаляем стоп-слова\n",
        "mystopwords = stopwords.words('russian') + ['это', 'наш' , 'тыс', 'млн', 'млрд', u'также',  'т', 'д', '-', '-']\n",
        "\n",
        "def  remove_stopwords(text, mystopwords = mystopwords):\n",
        "    try:\n",
        "        return u\" \".join([token for token in text.split() if not token in mystopwords])\n",
        "    except:\n",
        "        return u\"\"\n",
        "    \n",
        "df.text = df.text.apply(remove_stopwords)   "
      ]
    },
    {
      "cell_type": "code",
      "execution_count": null,
      "metadata": {
        "colab": {
          "base_uri": "https://localhost:8080/"
        },
        "id": "zayTBruN4rJY",
        "outputId": "7eb2ee06-f916-49e4-bb4a-cbd356b8025b"
      },
      "outputs": [],
      "source": [
        "!pip install pymystem3\n",
        "!wget http://download.cdn.yandex.net/mystem/mystem-3.0-linux3.1-64bit.tar.gz\n",
        "!tar -xvf mystem-3.0-linux3.1-64bit.tar.gz"
      ]
    },
    {
      "cell_type": "code",
      "execution_count": null,
      "metadata": {
        "colab": {
          "base_uri": "https://localhost:8080/"
        },
        "id": "3OyNmZfp4325",
        "outputId": "b5172910-24dc-4c94-ddbe-11591b984c44"
      },
      "outputs": [],
      "source": [
        "%%time \n",
        "from pymystem3 import Mystem\n",
        "\n",
        "\n",
        "# нормализуем текст\n",
        "bin_path = \"./mystem\"\n",
        "m = Mystem(bin_path)\n",
        "def lemmatize(text, mystem=m):\n",
        "    try:\n",
        "        return \"\".join(m.lemmatize(text)).strip()  \n",
        "    except:\n",
        "        return \" \"\n",
        "\n",
        "df.text = df.text.apply(lemmatize)"
      ]
    },
    {
      "cell_type": "code",
      "execution_count": null,
      "metadata": {
        "id": "8hTgmxEK49bM"
      },
      "outputs": [],
      "source": [
        "mystoplemmas = [u'который', u'прошлый', u'сей', u'свой', u'наш', u'мочь']\n",
        "\n",
        "# Еще кое-что удаляем\n",
        "def  remove_stoplemmas(text, mystoplemmas = mystoplemmas):\n",
        "    try:\n",
        "        return \" \".join([token for token in text.split() if not token in mystoplemmas])\n",
        "    except:\n",
        "        return \"\"\n",
        "\n",
        "df.text = df.text.apply(remove_stoplemmas)  "
      ]
    },
    {
      "cell_type": "markdown",
      "metadata": {
        "id": "sPIjvGBU6EGP"
      },
      "source": [
        "### Вычисление сходства (1 балл)"
      ]
    },
    {
      "cell_type": "code",
      "execution_count": null,
      "metadata": {
        "id": "UIx0egag52jD"
      },
      "outputs": [],
      "source": [
        "!pip install seaborn\n",
        "import seaborn as sns\n",
        "\n",
        "from sklearn.feature_extraction.text import TfidfVectorizer\n",
        "from sklearn.metrics import pairwise_distances"
      ]
    },
    {
      "cell_type": "code",
      "execution_count": null,
      "metadata": {
        "id": "ZOn_qbxK6OJi"
      },
      "outputs": [],
      "source": [
        "vect = TfidfVectorizer()\n",
        "texts = df.text.values"
      ]
    },
    {
      "cell_type": "code",
      "execution_count": null,
      "metadata": {
        "id": "oQeOndZl62cZ"
      },
      "outputs": [],
      "source": [
        "tfidf = vect.fit_transform(texts)"
      ]
    },
    {
      "cell_type": "code",
      "execution_count": null,
      "metadata": {
        "id": "5OQZ-Cwg7fbn"
      },
      "outputs": [],
      "source": [
        "S = pairwise_distances(tfidf, metric='cosine')"
      ]
    },
    {
      "cell_type": "code",
      "execution_count": null,
      "metadata": {
        "colab": {
          "base_uri": "https://localhost:8080/"
        },
        "id": "wLAxXLrv7s3A",
        "outputId": "d82eef66-a211-4430-a972-8dff007d4d12"
      },
      "outputs": [],
      "source": [
        "plt.figure(figsize = (10,10))\n",
        "sns.heatmap(data=S, cmap = 'Spectral').set(xticklabels=[],yticklabels=[])"
      ]
    },
    {
      "cell_type": "markdown",
      "metadata": {
        "id": "a8mds8jE9vv-"
      },
      "source": [
        "### DBSCAN (4 балла)"
      ]
    },
    {
      "cell_type": "markdown",
      "metadata": {
        "id": "vVKKm4iH9yDg"
      },
      "source": [
        "* (2) Воспользуйтесь методикой оценки параметров для алгоритма DBSCAN. Не копипастите min_pts = 2 из семинара! Используйте косинусную меру близости.\n",
        "* (1) Выделите кластеры. Для каждого кластера (кроме -1, если он будет) выведите несколько текстов и умозрительно определите его тематику. Можете подсмотреть в исходные тематики корпуса\n",
        "* (1) Оцените сходство с изначальными рубриками визуально (с помощью матрицы перемешивания) и с помощью Adjusted Rand Index"
      ]
    },
    {
      "cell_type": "code",
      "execution_count": null,
      "metadata": {
        "id": "Qn9Yu-Qy73zK"
      },
      "outputs": [],
      "source": [
        "from sklearn.cluster import DBSCAN\n",
        "from sklearn.neighbors import NearestNeighbors"
      ]
    },
    {
      "cell_type": "code",
      "execution_count": null,
      "metadata": {
        "colab": {
          "base_uri": "https://localhost:8080/"
        },
        "id": "gk8ngYO4MpVY",
        "outputId": "3542e145-b5dd-432e-c7bd-0a80bd76c15b"
      },
      "outputs": [],
      "source": [
        "min_samples = 5\n",
        "nn = NearestNeighbors(n_neighbors=min_samples)\n",
        "nn.fit(tfidf)"
      ]
    },
    {
      "cell_type": "code",
      "execution_count": null,
      "metadata": {
        "id": "NmsAybrWNFIl"
      },
      "outputs": [],
      "source": [
        "dist , _ = nn.kneighbors(tfidf)\n",
        "dist_last = dist[:, -1]\n",
        "dist_last = np.sort(dist_last)"
      ]
    },
    {
      "cell_type": "code",
      "execution_count": null,
      "metadata": {
        "colab": {
          "base_uri": "https://localhost:8080/"
        },
        "id": "GWWOr99VNhd8",
        "outputId": "557e5201-6730-47fd-e098-f0c3c1ef3255"
      },
      "outputs": [],
      "source": [
        "plt.plot(dist_last);"
      ]
    },
    {
      "cell_type": "code",
      "execution_count": null,
      "metadata": {
        "colab": {
          "base_uri": "https://localhost:8080/"
        },
        "id": "U7x5io5YNtSG",
        "outputId": "9b16846f-35df-4124-c6dd-2265164525a5"
      },
      "outputs": [],
      "source": [
        "db_scan = DBSCAN(eps=0.66, min_samples=6, metric='cosine')\n",
        "db_scan.fit(tfidf)"
      ]
    },
    {
      "cell_type": "code",
      "execution_count": null,
      "metadata": {
        "id": "hMAyeP04NjUo"
      },
      "outputs": [],
      "source": [
        "df_ = pd.read_csv('https://raw.githubusercontent.com/vadim0912/MLIntro2021/main/lecture06/data/news.csv', encoding='utf8')\n",
        "df_.loc[:, 'label'] =  db_scan.labels_"
      ]
    },
    {
      "cell_type": "code",
      "execution_count": null,
      "metadata": {
        "colab": {
          "base_uri": "https://localhost:8080/"
        },
        "id": "NFsQ5y3Yx80r",
        "outputId": "b6a8b260-61d2-48cb-92a0-11217471d2bd"
      },
      "outputs": [],
      "source": [
        "df_.label.value_counts()"
      ]
    },
    {
      "cell_type": "code",
      "execution_count": null,
      "metadata": {
        "colab": {
          "base_uri": "https://localhost:8080/"
        },
        "id": "JBGdjiW8yFBI",
        "outputId": "289c0cd2-6ce7-4b3e-ddb6-6327bf067a8f"
      },
      "outputs": [],
      "source": [
        "for cluster, df_cluster in df_.groupby('label'):\n",
        "    print(f'== Cluster {cluster} ==')\n",
        "    print(f'Cluster size: {df_cluster.shape[0]}')\n",
        "    df_cluster.drop(columns=[\"label\"]).mean()\n",
        "    print(df_cluster.text[:5])\n",
        "    print()"
      ]
    },
    {
      "cell_type": "markdown",
      "metadata": {
        "id": "_0L-wljX8SuW"
      },
      "source": [
        "После кластеризации явно выделяются следующие кластеры:\n",
        "* Туризм\n",
        "* Спорт\n",
        "* Технологии\n",
        "* Катастрофы (теракты)\n",
        "\n",
        "Новости связанные с политикой перемешиваются, но есть некоторые кластеры:\n",
        "* Культура\n",
        "* Опозиция\n",
        "* Выборы\n",
        "* Евровидение\n"
      ]
    },
    {
      "cell_type": "code",
      "execution_count": null,
      "metadata": {
        "id": "mMy-g5GU_zU5"
      },
      "outputs": [],
      "source": [
        "labels = db_scan.labels_"
      ]
    },
    {
      "cell_type": "code",
      "execution_count": null,
      "metadata": {
        "colab": {
          "base_uri": "https://localhost:8080/"
        },
        "id": "yy938V11_Hqs",
        "outputId": "76571477-b351-40f9-961f-ac27c21653d4"
      },
      "outputs": [],
      "source": [
        "pd.crosstab(df.loc[:, 'class'], labels)"
      ]
    },
    {
      "cell_type": "code",
      "execution_count": null,
      "metadata": {
        "id": "S-WfuIYIAKJ0"
      },
      "outputs": [],
      "source": [
        "from sklearn.metrics.cluster import adjusted_rand_score"
      ]
    },
    {
      "cell_type": "code",
      "execution_count": null,
      "metadata": {
        "colab": {
          "base_uri": "https://localhost:8080/"
        },
        "id": "_MX33JFD_vKg",
        "outputId": "5a92d0d7-9456-4291-d5ee-071a8eebcf0a"
      },
      "outputs": [],
      "source": [
        "le = LabelEncoder()\n",
        "true_label = le.fit_transform(df['class'])\n",
        "adjusted_rand_score(true_label, labels)"
      ]
    }
  ],
  "metadata": {
    "colab": {
      "collapsed_sections": [],
      "name": "DZ4ML.ipynb",
      "provenance": [],
      "toc_visible": true
    },
    "kernelspec": {
      "display_name": "Python 3",
      "name": "python3"
    },
    "language_info": {
      "name": "python"
    }
  },
  "nbformat": 4,
  "nbformat_minor": 0
}
