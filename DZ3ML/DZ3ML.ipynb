{
  "nbformat": 4,
  "nbformat_minor": 0,
  "metadata": {
    "colab": {
      "name": "DZ3ML.ipynb",
      "provenance": [],
      "collapsed_sections": [],
      "toc_visible": true
    },
    "kernelspec": {
      "display_name": "Python 3",
      "language": "python",
      "name": "python3"
    },
    "language_info": {
      "codemirror_mode": {
        "name": "ipython",
        "version": 3
      },
      "file_extension": ".py",
      "mimetype": "text/x-python",
      "name": "python",
      "nbconvert_exporter": "python",
      "pygments_lexer": "ipython3",
      "version": "3.8.8"
    }
  },
  "cells": [
    {
      "cell_type": "code",
      "metadata": {
        "id": "JUzuAw2mGD8p"
      },
      "source": [
        "!pip install numpy\n",
        "import numpy as np\n",
        "\n",
        "!pip install pandas\n",
        "import pandas as pd\n",
        "\n",
        "!pip install nltk                                                # хорошая библиотека для nlp\n",
        "from nltk.corpus import wordnet\n",
        "import nltk\n",
        "\n",
        "!pip install sklearn  \n",
        "from sklearn.feature_extraction.text import CountVectorizer\n",
        "from string import punctuation                                # разные знаки пунктуации\n",
        "from sklearn.feature_extraction.text import TfidfVectorizer   # объединение tf-idf\n",
        "from sklearn.pipeline import Pipeline                         # пайплайн\n",
        "from sklearn.model_selection import GridSearchCV              # сетка для подбора гиперпараметров\n",
        "from sklearn.model_selection import train_test_split\n",
        "from sklearn.ensemble import RandomForestClassifier, VotingClassifier\n",
        "from sklearn.metrics import f1_score\n",
        "from sklearn.linear_model import LogisticRegression\n",
        "from scipy.sparse import hstack\n",
        "from sklearn.linear_model import SGDClassifier\n",
        "\n",
        "!pip install lightgbm\n",
        "from lightgbm import LGBMClassifier\n",
        "\n",
        "!pip install pymorphy2\n",
        "import pymorphy2\n",
        "\n",
        "!pip install os\n",
        "import os"
      ],
      "execution_count": null,
      "outputs": []
    },
    {
      "cell_type": "code",
      "metadata": {
        "id": "3RSUxESZVJcQ"
      },
      "source": [
        "def text_preproccesing(df, train=False):\n",
        "\n",
        "    try:\n",
        "        stopwords = nltk.corpus.stopwords.words('russian') +\\\n",
        "                    nltk.corpus.stopwords.words('english') +\\\n",
        "                    nltk.corpus.stopwords.words('arabic') +\\\n",
        "                    nltk.corpus.stopwords.words('turkish')\n",
        "                    \n",
        "    except:\n",
        "        nltk.download('stopwords')\n",
        "\n",
        "        stopwords = nltk.corpus.stopwords.words('russian') +\\\n",
        "                    nltk.corpus.stopwords.words('english') +\\\n",
        "                    nltk.corpus.stopwords.words('arabic') +\\\n",
        "                    nltk.corpus.stopwords.words('turkish')\n",
        "\n",
        "    df['title'] = df['title'].map(lambda x : x.split(' '))\n",
        "    \n",
        "    # удаление стопслов, пунктации и слов, длина которых меньше 3\n",
        "    df['title'] = df['title'].map(lambda x: [token for token in x if token not in stopwords\\\n",
        "                                                                  and token != ' '\\\n",
        "                                                                  and token.strip() not in punctuation\\\n",
        "                                                                  and len(token) >= 3])\n",
        "\n",
        "    df['title'] = df['title'].map(lambda x : ' '.join([word for word in x]))\n",
        "\n",
        "    bad_symbols = punctuation + \"«'»•—²�®❗️\"\n",
        "\n",
        "    def remove_bad_symbols(text):\n",
        "        return text.translate(str.maketrans(bad_symbols, ' ' * len(bad_symbols)))\n",
        "\n",
        "    # удаление пунктуации, цифр и других неестественных символов\n",
        "    df['title'] = df['title'].map(lambda x: remove_bad_symbols(x))\n",
        "\n",
        "    # лемматизация \n",
        "    lemmatizer =  pymorphy2.MorphAnalyzer()\n",
        "    df['title']  = df['title'].apply(lambda x: [lemmatizer.parse(word)[0].normal_form for word in str(x).split()])\n",
        "\n",
        "    # разделение url'a по точке\n",
        "    df['url'] = df['url'].apply(lambda x: ' '.join(x.split('.')))\n",
        "\n",
        "    return df"
      ],
      "execution_count": null,
      "outputs": []
    },
    {
      "cell_type": "code",
      "metadata": {
        "colab": {
          "base_uri": "https://localhost:8080/",
          "height": 206
        },
        "id": "NkO422KuGD8v",
        "outputId": "c163004c-04ab-4b63-882f-4259a2f5f744"
      },
      "source": [
        "train_df = pd.read_csv(\"https://raw.githubusercontent.com/d3vyatk4ru/DZ3ML/main/train.csv\")\n",
        "\n",
        "test_df = pd.read_csv(\"https://raw.githubusercontent.com/d3vyatk4ru/DZ3ML/main/test.csv\")\n",
        "\n",
        "train_df.head()"
      ],
      "execution_count": null,
      "outputs": [
        {
          "output_type": "execute_result",
          "data": {
            "text/html": [
              "<div>\n",
              "<style scoped>\n",
              "    .dataframe tbody tr th:only-of-type {\n",
              "        vertical-align: middle;\n",
              "    }\n",
              "\n",
              "    .dataframe tbody tr th {\n",
              "        vertical-align: top;\n",
              "    }\n",
              "\n",
              "    .dataframe thead th {\n",
              "        text-align: right;\n",
              "    }\n",
              "</style>\n",
              "<table border=\"1\" class=\"dataframe\">\n",
              "  <thead>\n",
              "    <tr style=\"text-align: right;\">\n",
              "      <th></th>\n",
              "      <th>id</th>\n",
              "      <th>url</th>\n",
              "      <th>title</th>\n",
              "      <th>target</th>\n",
              "    </tr>\n",
              "  </thead>\n",
              "  <tbody>\n",
              "    <tr>\n",
              "      <th>0</th>\n",
              "      <td>0</td>\n",
              "      <td>m.kp.md</td>\n",
              "      <td>Экс-министр экономики Молдовы - главе МИДЭИ, ц...</td>\n",
              "      <td>False</td>\n",
              "    </tr>\n",
              "    <tr>\n",
              "      <th>1</th>\n",
              "      <td>1</td>\n",
              "      <td>www.kp.by</td>\n",
              "      <td>Эта песня стала известна многим телезрителям б...</td>\n",
              "      <td>False</td>\n",
              "    </tr>\n",
              "    <tr>\n",
              "      <th>2</th>\n",
              "      <td>2</td>\n",
              "      <td>fanserials.tv</td>\n",
              "      <td>Банши 4 сезон 2 серия Бремя красоты смотреть о...</td>\n",
              "      <td>False</td>\n",
              "    </tr>\n",
              "    <tr>\n",
              "      <th>3</th>\n",
              "      <td>3</td>\n",
              "      <td>colorbox.spb.ru</td>\n",
              "      <td>Не Беси Меня Картинки</td>\n",
              "      <td>False</td>\n",
              "    </tr>\n",
              "    <tr>\n",
              "      <th>4</th>\n",
              "      <td>4</td>\n",
              "      <td>tula-sport.ru</td>\n",
              "      <td>В Новомосковске сыграют следж-хоккеисты алекси...</td>\n",
              "      <td>False</td>\n",
              "    </tr>\n",
              "  </tbody>\n",
              "</table>\n",
              "</div>"
            ],
            "text/plain": [
              "   id  ... target\n",
              "0   0  ...  False\n",
              "1   1  ...  False\n",
              "2   2  ...  False\n",
              "3   3  ...  False\n",
              "4   4  ...  False\n",
              "\n",
              "[5 rows x 4 columns]"
            ]
          },
          "metadata": {},
          "execution_count": 14
        }
      ]
    },
    {
      "cell_type": "code",
      "metadata": {
        "id": "eX5j3r_YVlqS"
      },
      "source": [
        "X_train_preprocessing = text_preproccesing(train_df, train=True)"
      ],
      "execution_count": null,
      "outputs": []
    },
    {
      "cell_type": "code",
      "metadata": {
        "id": "GzOX7NNznP6s"
      },
      "source": [
        "X_train_preprocessing['title'] = X_train_preprocessing['title'].apply(lambda x : ' '.join(x))"
      ],
      "execution_count": null,
      "outputs": []
    },
    {
      "cell_type": "code",
      "metadata": {
        "id": "2D_mTJ1zUfGL"
      },
      "source": [
        "# извлекаем данные из столбцов title и url, а также метки\n",
        "X_title = X_train_preprocessing['title'].values\n",
        "X_url = X_train_preprocessing['url'].values\n",
        "y = X_train_preprocessing['target'].apply(int)\n",
        "y = y.values"
      ],
      "execution_count": null,
      "outputs": []
    },
    {
      "cell_type": "code",
      "metadata": {
        "id": "IhRKCXUCpOzt"
      },
      "source": [
        "# делим данные на етст и трейн\n",
        "X_train_title, X_test_title, y_train, y_test = train_test_split( X_title, y, test_size=0.04, random_state=42)\n",
        "X_train_url, X_test_url, y_train, y_test = train_test_split( X_url, y, test_size=0.04, random_state=42)"
      ],
      "execution_count": null,
      "outputs": []
    },
    {
      "cell_type": "code",
      "metadata": {
        "id": "a6E7_1-dtAns"
      },
      "source": [
        "# подготавливаем tf-idf и count vectorize\n",
        "tfidf_title = TfidfVectorizer(ngram_range=(1, 3), min_df=1, analyzer='word', max_features=90_350, smooth_idf=False)\n",
        "vectorizer_url = CountVectorizer(ngram_range=(1, 3), min_df=1, binary=False, analyzer='char')"
      ],
      "execution_count": null,
      "outputs": []
    },
    {
      "cell_type": "code",
      "metadata": {
        "id": "tGDFN8FmVxSq"
      },
      "source": [
        "X_train_title_vectorized = tfidf_title.fit_transform(X_train_title)\n",
        "X_train_url_vectorized = vectorizer_url.fit_transform(X_train_url)\n",
        "\n",
        "X_train_vectorized = hstack([X_train_title_vectorized, X_train_url_vectorized])\n",
        "\n",
        "X_test_title_vectorized = tfidf_title.transform(X_test_title)\n",
        "X_test_url_vectorized = vectorizer_url.transform(X_test_url)\n",
        "\n",
        "X_test_vectorized = hstack([X_test_title_vectorized, X_test_url_vectorized])"
      ],
      "execution_count": null,
      "outputs": []
    },
    {
      "cell_type": "code",
      "metadata": {
        "colab": {
          "base_uri": "https://localhost:8080/"
        },
        "id": "NFK3AVBetBTN",
        "outputId": "5cf60847-1816-462f-d73c-54dc0e40a221"
      },
      "source": [
        "log_reg = LogisticRegression(max_iter=1000, solver='liblinear', C=100)\n",
        "\n",
        "log_reg.fit(\n",
        "    X_train_vectorized,\n",
        "    y_train\n",
        ")\n",
        "\n",
        "y_pred = log_reg.predict(X_test_vectorized)\n",
        "\n",
        "f1_score(y_pred=y_pred, y_true=y_test)  "
      ],
      "execution_count": null,
      "outputs": [
        {
          "output_type": "execute_result",
          "data": {
            "text/plain": [
              "0.9756795422031475"
            ]
          },
          "metadata": {},
          "execution_count": 21
        }
      ]
    },
    {
      "cell_type": "code",
      "metadata": {
        "id": "4_VMm5UFs9D8"
      },
      "source": [
        "\n",
        "# случайный лес\n",
        "rf = RandomForestClassifier(n_estimators=50,\n",
        "                            criterion='entropy',\n",
        "                            bootstrap=True,\n",
        "                            min_samples_split=2,\n",
        "                            min_samples_leaf=1,\n",
        "                            n_jobs=-1,\n",
        "                            random_state=42)\n",
        "\n",
        "# град бустинг\n",
        "LGBM = LGBMClassifier(learning_rate=0.1, n_estimators=100)\n",
        "\n",
        "SGD = SGDClassifier(alpha=0.08)"
      ],
      "execution_count": null,
      "outputs": []
    },
    {
      "cell_type": "code",
      "metadata": {
        "colab": {
          "base_uri": "https://localhost:8080/"
        },
        "id": "1tm5nYHuW7iH",
        "outputId": "97f7f110-ff8d-4825-92fc-26f3fdd42523"
      },
      "source": [
        "# пытаемся сделать голосование по нескольким классификаторам, но скор сравним с обычным лог регом\n",
        "voting_clf = VotingClassifier(estimators=[('LGBM', LGBM), ('log_reg', log_reg), ('SGD', SGD)], voting='hard')\n",
        "\n",
        "voting_clf.fit(\n",
        "    hstack([X_train_vectorized, log_reg.predict_proba(X_train_vectorized)]).astype(np.float32),\n",
        "    y_train\n",
        ")\n",
        "\n",
        "y_pred = voting_clf.predict(\n",
        "    hstack([X_test_vectorized, log_reg.predict_proba(X_test_vectorized)]).astype(np.float32)\n",
        ")\n",
        "\n",
        "f1_score(y_test, y_pred)"
      ],
      "execution_count": null,
      "outputs": [
        {
          "output_type": "stream",
          "name": "stderr",
          "text": [
            "/usr/local/lib/python3.7/dist-packages/lightgbm/basic.py:478: UserWarning: Converting data to scipy sparse matrix.\n",
            "  warnings.warn('Converting data to scipy sparse matrix.')\n"
          ]
        },
        {
          "output_type": "execute_result",
          "data": {
            "text/plain": [
              "0.9756446991404012"
            ]
          },
          "metadata": {},
          "execution_count": 23
        }
      ]
    },
    {
      "cell_type": "markdown",
      "metadata": {
        "id": "pdlGnrIrpUgB"
      },
      "source": [
        "Значительных приростов в скоре при использовании голосования не замечено"
      ]
    },
    {
      "cell_type": "code",
      "metadata": {
        "id": "iiej52NKsgRg"
      },
      "source": [
        "X_test = text_preproccesing(test_df)"
      ],
      "execution_count": null,
      "outputs": []
    },
    {
      "cell_type": "code",
      "metadata": {
        "id": "rXvn6aYXtDTA"
      },
      "source": [
        "X_test['title'] = X_test['title'].apply(lambda x : ' '.join(x))"
      ],
      "execution_count": null,
      "outputs": []
    },
    {
      "cell_type": "code",
      "metadata": {
        "id": "p0eTijY-lwBP"
      },
      "source": [
        "X_title = X_test['title'].values\n",
        "X_url = X_test['url'].values\n",
        "\n",
        "X_valid_title_vectorized = tfidf_title.transform(X_title)\n",
        "X_valid_url_vectorized = vectorizer_url.transform(X_url)\n",
        "\n",
        "X_valid_vectorized = hstack([X_valid_title_vectorized, X_valid_url_vectorized])"
      ],
      "execution_count": null,
      "outputs": []
    },
    {
      "cell_type": "code",
      "metadata": {
        "colab": {
          "base_uri": "https://localhost:8080/"
        },
        "id": "e0KfQTu_oSpi",
        "outputId": "c5583d7c-e394-4162-f1b1-70ced3bfe463"
      },
      "source": [
        "y_pred = voting_clf.predict(hstack([X_valid_vectorized, log_reg.predict_proba(X_valid_vectorized)]).astype(np.float32))"
      ],
      "execution_count": null,
      "outputs": [
        {
          "output_type": "stream",
          "name": "stderr",
          "text": [
            "/usr/local/lib/python3.7/dist-packages/lightgbm/basic.py:478: UserWarning: Converting data to scipy sparse matrix.\n",
            "  warnings.warn('Converting data to scipy sparse matrix.')\n"
          ]
        }
      ]
    },
    {
      "cell_type": "code",
      "metadata": {
        "id": "lDPzcybYoGRD"
      },
      "source": [
        "y_pred_log = log_reg.predict(X_valid_vectorized)"
      ],
      "execution_count": null,
      "outputs": []
    },
    {
      "cell_type": "code",
      "metadata": {
        "colab": {
          "base_uri": "https://localhost:8080/"
        },
        "id": "QjCfYqoZwGMK",
        "outputId": "4f3dac0f-b9cc-4548-a126-7ff52255d54f"
      },
      "source": [
        "from google.colab import drive\n",
        "drive.mount('/content/drive')"
      ],
      "execution_count": null,
      "outputs": [
        {
          "output_type": "stream",
          "name": "stdout",
          "text": [
            "Mounted at /content/drive\n"
          ]
        }
      ]
    },
    {
      "cell_type": "code",
      "metadata": {
        "id": "l4pkYSWlu8VT"
      },
      "source": [
        "df = pd.DataFrame()\n",
        "df['id'] = test_df['id'].values\n",
        "df['target'] = list(map(bool, y_pred))\n",
        "df.to_csv(\"/content/drive/MyDrive/test_pred_log.csv\", index=False)"
      ],
      "execution_count": null,
      "outputs": []
    },
    {
      "cell_type": "code",
      "metadata": {
        "colab": {
          "base_uri": "https://localhost:8080/"
        },
        "id": "nrtiyELaCiG1",
        "outputId": "8404989f-fb94-4ebb-9f3b-f62309f961e7"
      },
      "source": [
        "df"
      ],
      "execution_count": null,
      "outputs": [
        {
          "output_type": "error",
          "ename": "NameError",
          "evalue": "ignored",
          "traceback": [
            "\u001b[0;31m---------------------------------------------------------------------------\u001b[0m",
            "\u001b[0;31mNameError\u001b[0m                                 Traceback (most recent call last)",
            "\u001b[0;32m<ipython-input-1-00cf07b74dcd>\u001b[0m in \u001b[0;36m<module>\u001b[0;34m()\u001b[0m\n\u001b[0;32m----> 1\u001b[0;31m \u001b[0mdf\u001b[0m\u001b[0;34m\u001b[0m\u001b[0;34m\u001b[0m\u001b[0m\n\u001b[0m",
            "\u001b[0;31mNameError\u001b[0m: name 'df' is not defined"
          ]
        }
      ]
    },
    {
      "cell_type": "code",
      "metadata": {
        "id": "IKJLowFCCif0"
      },
      "source": [
        ""
      ],
      "execution_count": null,
      "outputs": []
    }
  ]
}